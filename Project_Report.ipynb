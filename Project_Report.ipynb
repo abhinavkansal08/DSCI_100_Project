{
 "cells": [
  {
   "cell_type": "markdown",
   "metadata": {},
   "source": [
    "# **STROKE PREDICTION MODEL**"
   ]
  },
  {
   "cell_type": "markdown",
   "metadata": {},
   "source": [
    "### **Introduction:**\n",
    "\n",
    "According to the World Health Organization (WHO), Stroke is ranked as the 2nd leading cause of death worldwide, and causes approximately 11% of total deaths. Therefore, it is really important to know what are the possible risk factors for strokes that would help us in predicting the stroke. This dataset is used to predict a classification question of whether a patient is likely to get a stroke based on the input parameters like age, hypertension, heart disease, and average glucose level. In this dataset \"healthcare-dataset-stroke-data.csv\", each row in the data provides relevant information and an observation about the patient. Moreover, each column of the table respresents a particular variable, and each row corresponds to the record of a patient in this dataset. "
   ]
  },
  {
   "cell_type": "markdown",
   "metadata": {},
   "source": [
    "### **Literature Review**\n",
    "\n",
    "1. Hypertension and stroke\n",
    "\n",
    "Hypertension is the single most important risk factor for all types of stroke: ischemic stroke, intracerebral hemorrhage, and aneurysmal subarachnoid hemorrhage. Epidemiologic studies over the past 30 years have demonstrated a dramatic reduction in the incidence and mortality of all stroke types with good control of hypertension, and it appears that all effective antihypertensive agents have similar efficacy in their ability to reduce stroke risk. \n",
    "\n",
    "2. Age and stroke\n",
    "\n",
    "Patients with SR were biologically older than those without SR. B-Age was independently associated with high risk of developing SR. (sr: stroke recurrence, B-age: biological age)\n",
    "\n",
    "3. Reasons for choosing the predictors(based on graphs we made)\n",
    "\n",
    "Age: According to the graph, we can clearly see that age plays a major role when deciding if a person is likely to have a stroke or not. Usually older people above the age of 60 are much more likely to get a heart stroke compared to people below the age of 60 who are much less likely to get the stroke\n",
    "Hypertension: From the histogram, we can see that the proportion of people who have stroke is much higher in people who already have hypertension. \n",
    "Heart Disease: Looking at the histogram, it is concluded that people who already have a heart disease will much more likely get a stroke compared to individuals who do not have a heart disease\n",
    " \n",
    " \n",
    "We did not choose, marriage status, work type, residence type as we believe that these variables have no connection with having a stroke. \n"
   ]
  },
  {
   "cell_type": "markdown",
   "metadata": {},
   "source": [
    "### **Preliminary exploratory data analysis:**"
   ]
  },
  {
   "cell_type": "code",
   "execution_count": 6,
   "metadata": {},
   "outputs": [
    {
     "name": "stderr",
     "output_type": "stream",
     "text": [
      "Warning message in file(filename, \"r\", encoding = encoding):\n",
      "“cannot open file 'tests.R': No such file or directory”\n"
     ]
    },
    {
     "ename": "ERROR",
     "evalue": "Error in file(filename, \"r\", encoding = encoding): cannot open the connection\n",
     "output_type": "error",
     "traceback": [
      "Error in file(filename, \"r\", encoding = encoding): cannot open the connection\nTraceback:\n",
      "1. source(\"tests.R\")",
      "2. file(filename, \"r\", encoding = encoding)"
     ]
    }
   ],
   "source": [
    "library(tidyverse)\n",
    "library(testthat)\n",
    "library(digest)\n",
    "library(repr)\n",
    "library(tidymodels)\n",
    "library(GGally)\n",
    "library(ISLR)\n",
    "options(repr.matrix.max.rows = 6)\n",
    "source(\"tests.R\")\n",
    "source(\"cleanup.R\")"
   ]
  },
  {
   "cell_type": "code",
   "execution_count": 7,
   "metadata": {},
   "outputs": [
    {
     "name": "stderr",
     "output_type": "stream",
     "text": [
      "Parsed with column specification:\n",
      "cols(\n",
      "  id = \u001b[32mcol_double()\u001b[39m,\n",
      "  gender = \u001b[31mcol_character()\u001b[39m,\n",
      "  age = \u001b[32mcol_double()\u001b[39m,\n",
      "  hypertension = \u001b[32mcol_double()\u001b[39m,\n",
      "  heart_disease = \u001b[32mcol_double()\u001b[39m,\n",
      "  ever_married = \u001b[31mcol_character()\u001b[39m,\n",
      "  work_type = \u001b[31mcol_character()\u001b[39m,\n",
      "  Residence_type = \u001b[31mcol_character()\u001b[39m,\n",
      "  avg_glucose_level = \u001b[32mcol_double()\u001b[39m,\n",
      "  bmi = \u001b[31mcol_character()\u001b[39m,\n",
      "  smoking_status = \u001b[31mcol_character()\u001b[39m,\n",
      "  stroke = \u001b[32mcol_double()\u001b[39m\n",
      ")\n",
      "\n",
      "Warning message:\n",
      "“1 parsing failure.\n",
      " row col   expected    actual                                                                                                         file\n",
      "1904  -- 12 columns 8 columns 'https://raw.githubusercontent.com/abhinavkansal08/DSCI_100_Project/main/healthcare-dataset-stroke-data.csv'\n",
      "”\n"
     ]
    },
    {
     "data": {
      "text/html": [
       "<table>\n",
       "<caption>A tibble: 6 × 12</caption>\n",
       "<thead>\n",
       "\t<tr><th scope=col>id</th><th scope=col>gender</th><th scope=col>age</th><th scope=col>hypertension</th><th scope=col>heart_disease</th><th scope=col>ever_married</th><th scope=col>work_type</th><th scope=col>Residence_type</th><th scope=col>avg_glucose_level</th><th scope=col>bmi</th><th scope=col>smoking_status</th><th scope=col>stroke</th></tr>\n",
       "\t<tr><th scope=col>&lt;dbl&gt;</th><th scope=col>&lt;chr&gt;</th><th scope=col>&lt;dbl&gt;</th><th scope=col>&lt;dbl&gt;</th><th scope=col>&lt;dbl&gt;</th><th scope=col>&lt;chr&gt;</th><th scope=col>&lt;chr&gt;</th><th scope=col>&lt;chr&gt;</th><th scope=col>&lt;dbl&gt;</th><th scope=col>&lt;chr&gt;</th><th scope=col>&lt;chr&gt;</th><th scope=col>&lt;dbl&gt;</th></tr>\n",
       "</thead>\n",
       "<tbody>\n",
       "\t<tr><td> 9046</td><td>Male  </td><td>67</td><td>0</td><td>1</td><td>Yes</td><td>Private      </td><td>Urban</td><td>228.69</td><td>36.6</td><td>formerly smoked</td><td>1</td></tr>\n",
       "\t<tr><td>51676</td><td>Female</td><td>61</td><td>0</td><td>0</td><td>Yes</td><td>Self-employed</td><td>Rural</td><td>202.21</td><td>N/A </td><td>never smoked   </td><td>1</td></tr>\n",
       "\t<tr><td>31112</td><td>Male  </td><td>80</td><td>0</td><td>1</td><td>Yes</td><td>Private      </td><td>Rural</td><td>105.92</td><td>32.5</td><td>never smoked   </td><td>1</td></tr>\n",
       "\t<tr><td>60182</td><td>Female</td><td>49</td><td>0</td><td>0</td><td>Yes</td><td>Private      </td><td>Urban</td><td>171.23</td><td>34.4</td><td>smokes         </td><td>1</td></tr>\n",
       "\t<tr><td> 1665</td><td>Female</td><td>79</td><td>1</td><td>0</td><td>Yes</td><td>Self-employed</td><td>Rural</td><td>174.12</td><td>24  </td><td>never smoked   </td><td>1</td></tr>\n",
       "\t<tr><td>56669</td><td>Male  </td><td>81</td><td>0</td><td>0</td><td>Yes</td><td>Private      </td><td>Urban</td><td>186.21</td><td>29  </td><td>formerly smoked</td><td>1</td></tr>\n",
       "</tbody>\n",
       "</table>\n"
      ],
      "text/latex": [
       "A tibble: 6 × 12\n",
       "\\begin{tabular}{llllllllllll}\n",
       " id & gender & age & hypertension & heart\\_disease & ever\\_married & work\\_type & Residence\\_type & avg\\_glucose\\_level & bmi & smoking\\_status & stroke\\\\\n",
       " <dbl> & <chr> & <dbl> & <dbl> & <dbl> & <chr> & <chr> & <chr> & <dbl> & <chr> & <chr> & <dbl>\\\\\n",
       "\\hline\n",
       "\t  9046 & Male   & 67 & 0 & 1 & Yes & Private       & Urban & 228.69 & 36.6 & formerly smoked & 1\\\\\n",
       "\t 51676 & Female & 61 & 0 & 0 & Yes & Self-employed & Rural & 202.21 & N/A  & never smoked    & 1\\\\\n",
       "\t 31112 & Male   & 80 & 0 & 1 & Yes & Private       & Rural & 105.92 & 32.5 & never smoked    & 1\\\\\n",
       "\t 60182 & Female & 49 & 0 & 0 & Yes & Private       & Urban & 171.23 & 34.4 & smokes          & 1\\\\\n",
       "\t  1665 & Female & 79 & 1 & 0 & Yes & Self-employed & Rural & 174.12 & 24   & never smoked    & 1\\\\\n",
       "\t 56669 & Male   & 81 & 0 & 0 & Yes & Private       & Urban & 186.21 & 29   & formerly smoked & 1\\\\\n",
       "\\end{tabular}\n"
      ],
      "text/markdown": [
       "\n",
       "A tibble: 6 × 12\n",
       "\n",
       "| id &lt;dbl&gt; | gender &lt;chr&gt; | age &lt;dbl&gt; | hypertension &lt;dbl&gt; | heart_disease &lt;dbl&gt; | ever_married &lt;chr&gt; | work_type &lt;chr&gt; | Residence_type &lt;chr&gt; | avg_glucose_level &lt;dbl&gt; | bmi &lt;chr&gt; | smoking_status &lt;chr&gt; | stroke &lt;dbl&gt; |\n",
       "|---|---|---|---|---|---|---|---|---|---|---|---|\n",
       "|  9046 | Male   | 67 | 0 | 1 | Yes | Private       | Urban | 228.69 | 36.6 | formerly smoked | 1 |\n",
       "| 51676 | Female | 61 | 0 | 0 | Yes | Self-employed | Rural | 202.21 | N/A  | never smoked    | 1 |\n",
       "| 31112 | Male   | 80 | 0 | 1 | Yes | Private       | Rural | 105.92 | 32.5 | never smoked    | 1 |\n",
       "| 60182 | Female | 49 | 0 | 0 | Yes | Private       | Urban | 171.23 | 34.4 | smokes          | 1 |\n",
       "|  1665 | Female | 79 | 1 | 0 | Yes | Self-employed | Rural | 174.12 | 24   | never smoked    | 1 |\n",
       "| 56669 | Male   | 81 | 0 | 0 | Yes | Private       | Urban | 186.21 | 29   | formerly smoked | 1 |\n",
       "\n"
      ],
      "text/plain": [
       "  id    gender age hypertension heart_disease ever_married work_type    \n",
       "1  9046 Male   67  0            1             Yes          Private      \n",
       "2 51676 Female 61  0            0             Yes          Self-employed\n",
       "3 31112 Male   80  0            1             Yes          Private      \n",
       "4 60182 Female 49  0            0             Yes          Private      \n",
       "5  1665 Female 79  1            0             Yes          Self-employed\n",
       "6 56669 Male   81  0            0             Yes          Private      \n",
       "  Residence_type avg_glucose_level bmi  smoking_status  stroke\n",
       "1 Urban          228.69            36.6 formerly smoked 1     \n",
       "2 Rural          202.21            N/A  never smoked    1     \n",
       "3 Rural          105.92            32.5 never smoked    1     \n",
       "4 Urban          171.23            34.4 smokes          1     \n",
       "5 Rural          174.12            24   never smoked    1     \n",
       "6 Urban          186.21            29   formerly smoked 1     "
      ]
     },
     "metadata": {},
     "output_type": "display_data"
    }
   ],
   "source": [
    "set.seed(1234)\n",
    "\n",
    "url <- \"https://raw.githubusercontent.com/abhinavkansal08/DSCI_100_Project/main/healthcare-dataset-stroke-data.csv\"\n",
    "\n",
    "stroke_data <- read_csv(url)\n",
    "\n",
    "head(stroke_data)"
   ]
  },
  {
   "cell_type": "markdown",
   "metadata": {},
   "source": [
    "As we can see from above, the data is already in a tidy format so we can use the dataset as it is."
   ]
  },
  {
   "cell_type": "code",
   "execution_count": 8,
   "metadata": {},
   "outputs": [],
   "source": [
    "stroke_data <- stroke_data %>% \n",
    "    mutate(stroke = as_factor(stroke))"
   ]
  },
  {
   "cell_type": "code",
   "execution_count": 9,
   "metadata": {},
   "outputs": [
    {
     "name": "stdout",
     "output_type": "stream",
     "text": [
      "Rows: 1,904\n",
      "Columns: 12\n",
      "$ id                \u001b[3m\u001b[90m<dbl>\u001b[39m\u001b[23m 9046, 51676, 31112, 60182, 1665, 56669, 53882, 1043…\n",
      "$ gender            \u001b[3m\u001b[90m<chr>\u001b[39m\u001b[23m \"Male\", \"Female\", \"Male\", \"Female\", \"Female\", \"Male…\n",
      "$ age               \u001b[3m\u001b[90m<dbl>\u001b[39m\u001b[23m 67, 61, 80, 49, 79, 81, 74, 69, 59, 78, 81, 61, 54,…\n",
      "$ hypertension      \u001b[3m\u001b[90m<dbl>\u001b[39m\u001b[23m 0, 0, 0, 0, 1, 0, 1, 0, 0, 0, 1, 0, 0, 0, 0, 1, 0, …\n",
      "$ heart_disease     \u001b[3m\u001b[90m<dbl>\u001b[39m\u001b[23m 1, 0, 1, 0, 0, 0, 1, 0, 0, 0, 0, 1, 0, 1, 1, 0, 1, …\n",
      "$ ever_married      \u001b[3m\u001b[90m<chr>\u001b[39m\u001b[23m \"Yes\", \"Yes\", \"Yes\", \"Yes\", \"Yes\", \"Yes\", \"Yes\", \"N…\n",
      "$ work_type         \u001b[3m\u001b[90m<chr>\u001b[39m\u001b[23m \"Private\", \"Self-employed\", \"Private\", \"Private\", \"…\n",
      "$ Residence_type    \u001b[3m\u001b[90m<chr>\u001b[39m\u001b[23m \"Urban\", \"Rural\", \"Rural\", \"Urban\", \"Rural\", \"Urban…\n",
      "$ avg_glucose_level \u001b[3m\u001b[90m<dbl>\u001b[39m\u001b[23m 228.69, 202.21, 105.92, 171.23, 174.12, 186.21, 70.…\n",
      "$ bmi               \u001b[3m\u001b[90m<chr>\u001b[39m\u001b[23m \"36.6\", \"N/A\", \"32.5\", \"34.4\", \"24\", \"29\", \"27.4\", …\n",
      "$ smoking_status    \u001b[3m\u001b[90m<chr>\u001b[39m\u001b[23m \"formerly smoked\", \"never smoked\", \"never smoked\", …\n",
      "$ stroke            \u001b[3m\u001b[90m<fct>\u001b[39m\u001b[23m 1, 1, 1, 1, 1, 1, 1, 1, 1, 1, 1, 1, 1, 1, 1, 1, 1, …\n"
     ]
    }
   ],
   "source": [
    "stroke_data <- stroke_data %>%\n",
    "  mutate(stroke = as_factor(stroke))\n",
    "glimpse(stroke_data)"
   ]
  },
  {
   "cell_type": "code",
   "execution_count": 10,
   "metadata": {},
   "outputs": [
    {
     "data": {
      "text/html": [
       "<style>\n",
       ".list-inline {list-style: none; margin:0; padding: 0}\n",
       ".list-inline>li {display: inline-block}\n",
       ".list-inline>li:not(:last-child)::after {content: \"\\00b7\"; padding: 0 .5ex}\n",
       "</style>\n",
       "<ol class=list-inline><li>'0'</li><li>'1'</li></ol>\n"
      ],
      "text/latex": [
       "\\begin{enumerate*}\n",
       "\\item '0'\n",
       "\\item '1'\n",
       "\\end{enumerate*}\n"
      ],
      "text/markdown": [
       "1. '0'\n",
       "2. '1'\n",
       "\n",
       "\n"
      ],
      "text/plain": [
       "[1] \"0\" \"1\""
      ]
     },
     "metadata": {},
     "output_type": "display_data"
    }
   ],
   "source": [
    "stroke_data %>%\n",
    "  pull(stroke) %>%\n",
    "  levels()"
   ]
  },
  {
   "cell_type": "code",
   "execution_count": 11,
   "metadata": {},
   "outputs": [],
   "source": [
    "stroke_data <- stroke_data[!is.na(stroke_data$stroke),]"
   ]
  },
  {
   "cell_type": "code",
   "execution_count": 12,
   "metadata": {},
   "outputs": [
    {
     "name": "stdout",
     "output_type": "stream",
     "text": [
      "[1] \"Number of observations and percentage in stroke\"\n"
     ]
    },
    {
     "name": "stderr",
     "output_type": "stream",
     "text": [
      "`summarise()` ungrouping output (override with `.groups` argument)\n",
      "\n"
     ]
    },
    {
     "data": {
      "text/html": [
       "<table>\n",
       "<caption>A tibble: 2 × 3</caption>\n",
       "<thead>\n",
       "\t<tr><th scope=col>stroke</th><th scope=col>count</th><th scope=col>percentage</th></tr>\n",
       "\t<tr><th scope=col>&lt;fct&gt;</th><th scope=col>&lt;int&gt;</th><th scope=col>&lt;dbl&gt;</th></tr>\n",
       "</thead>\n",
       "<tbody>\n",
       "\t<tr><td>0</td><td>1654</td><td>86.9154</td></tr>\n",
       "\t<tr><td>1</td><td> 249</td><td>13.0846</td></tr>\n",
       "</tbody>\n",
       "</table>\n"
      ],
      "text/latex": [
       "A tibble: 2 × 3\n",
       "\\begin{tabular}{lll}\n",
       " stroke & count & percentage\\\\\n",
       " <fct> & <int> & <dbl>\\\\\n",
       "\\hline\n",
       "\t 0 & 1654 & 86.9154\\\\\n",
       "\t 1 &  249 & 13.0846\\\\\n",
       "\\end{tabular}\n"
      ],
      "text/markdown": [
       "\n",
       "A tibble: 2 × 3\n",
       "\n",
       "| stroke &lt;fct&gt; | count &lt;int&gt; | percentage &lt;dbl&gt; |\n",
       "|---|---|---|\n",
       "| 0 | 1654 | 86.9154 |\n",
       "| 1 |  249 | 13.0846 |\n",
       "\n"
      ],
      "text/plain": [
       "  stroke count percentage\n",
       "1 0      1654  86.9154   \n",
       "2 1       249  13.0846   "
      ]
     },
     "metadata": {},
     "output_type": "display_data"
    },
    {
     "name": "stdout",
     "output_type": "stream",
     "text": [
      "[1] \"Means of the predictor variables used in our analysis\"\n"
     ]
    },
    {
     "data": {
      "text/html": [
       "<table>\n",
       "<caption>A tibble: 1 × 3</caption>\n",
       "<thead>\n",
       "\t<tr><th scope=col>age</th><th scope=col>hypertension</th><th scope=col>heart_disease</th></tr>\n",
       "\t<tr><th scope=col>&lt;dbl&gt;</th><th scope=col>&lt;dbl&gt;</th><th scope=col>&lt;dbl&gt;</th></tr>\n",
       "</thead>\n",
       "<tbody>\n",
       "\t<tr><td>45.62642</td><td>0.113505</td><td>0.06673673</td></tr>\n",
       "</tbody>\n",
       "</table>\n"
      ],
      "text/latex": [
       "A tibble: 1 × 3\n",
       "\\begin{tabular}{lll}\n",
       " age & hypertension & heart\\_disease\\\\\n",
       " <dbl> & <dbl> & <dbl>\\\\\n",
       "\\hline\n",
       "\t 45.62642 & 0.113505 & 0.06673673\\\\\n",
       "\\end{tabular}\n"
      ],
      "text/markdown": [
       "\n",
       "A tibble: 1 × 3\n",
       "\n",
       "| age &lt;dbl&gt; | hypertension &lt;dbl&gt; | heart_disease &lt;dbl&gt; |\n",
       "|---|---|---|\n",
       "| 45.62642 | 0.113505 | 0.06673673 |\n",
       "\n"
      ],
      "text/plain": [
       "  age      hypertension heart_disease\n",
       "1 45.62642 0.113505     0.06673673   "
      ]
     },
     "metadata": {},
     "output_type": "display_data"
    },
    {
     "name": "stderr",
     "output_type": "stream",
     "text": [
      "Warning message in mean.default(col, ...):\n",
      "“argument is not numeric or logical: returning NA”\n"
     ]
    },
    {
     "data": {
      "text/html": [
       "<table>\n",
       "<caption>A tibble: 1 × 2</caption>\n",
       "<thead>\n",
       "\t<tr><th scope=col>avg_glucose_level</th><th scope=col>bmi</th></tr>\n",
       "\t<tr><th scope=col>&lt;dbl&gt;</th><th scope=col>&lt;dbl&gt;</th></tr>\n",
       "</thead>\n",
       "<tbody>\n",
       "\t<tr><td>109.3888</td><td>NA</td></tr>\n",
       "</tbody>\n",
       "</table>\n"
      ],
      "text/latex": [
       "A tibble: 1 × 2\n",
       "\\begin{tabular}{ll}\n",
       " avg\\_glucose\\_level & bmi\\\\\n",
       " <dbl> & <dbl>\\\\\n",
       "\\hline\n",
       "\t 109.3888 & NA\\\\\n",
       "\\end{tabular}\n"
      ],
      "text/markdown": [
       "\n",
       "A tibble: 1 × 2\n",
       "\n",
       "| avg_glucose_level &lt;dbl&gt; | bmi &lt;dbl&gt; |\n",
       "|---|---|\n",
       "| 109.3888 | NA |\n",
       "\n"
      ],
      "text/plain": [
       "  avg_glucose_level bmi\n",
       "1 109.3888          NA "
      ]
     },
     "metadata": {},
     "output_type": "display_data"
    },
    {
     "name": "stdout",
     "output_type": "stream",
     "text": [
      "[1] \"Missing data\"\n"
     ]
    },
    {
     "data": {
      "text/html": [
       "<table>\n",
       "<caption>A tibble: 1 × 12</caption>\n",
       "<thead>\n",
       "\t<tr><th scope=col>id</th><th scope=col>gender</th><th scope=col>age</th><th scope=col>hypertension</th><th scope=col>heart_disease</th><th scope=col>ever_married</th><th scope=col>work_type</th><th scope=col>Residence_type</th><th scope=col>avg_glucose_level</th><th scope=col>bmi</th><th scope=col>smoking_status</th><th scope=col>stroke</th></tr>\n",
       "\t<tr><th scope=col>&lt;int&gt;</th><th scope=col>&lt;int&gt;</th><th scope=col>&lt;int&gt;</th><th scope=col>&lt;int&gt;</th><th scope=col>&lt;int&gt;</th><th scope=col>&lt;int&gt;</th><th scope=col>&lt;int&gt;</th><th scope=col>&lt;int&gt;</th><th scope=col>&lt;int&gt;</th><th scope=col>&lt;int&gt;</th><th scope=col>&lt;int&gt;</th><th scope=col>&lt;int&gt;</th></tr>\n",
       "</thead>\n",
       "<tbody>\n",
       "\t<tr><td>0</td><td>0</td><td>0</td><td>0</td><td>0</td><td>0</td><td>0</td><td>0</td><td>0</td><td>0</td><td>0</td><td>0</td></tr>\n",
       "</tbody>\n",
       "</table>\n"
      ],
      "text/latex": [
       "A tibble: 1 × 12\n",
       "\\begin{tabular}{llllllllllll}\n",
       " id & gender & age & hypertension & heart\\_disease & ever\\_married & work\\_type & Residence\\_type & avg\\_glucose\\_level & bmi & smoking\\_status & stroke\\\\\n",
       " <int> & <int> & <int> & <int> & <int> & <int> & <int> & <int> & <int> & <int> & <int> & <int>\\\\\n",
       "\\hline\n",
       "\t 0 & 0 & 0 & 0 & 0 & 0 & 0 & 0 & 0 & 0 & 0 & 0\\\\\n",
       "\\end{tabular}\n"
      ],
      "text/markdown": [
       "\n",
       "A tibble: 1 × 12\n",
       "\n",
       "| id &lt;int&gt; | gender &lt;int&gt; | age &lt;int&gt; | hypertension &lt;int&gt; | heart_disease &lt;int&gt; | ever_married &lt;int&gt; | work_type &lt;int&gt; | Residence_type &lt;int&gt; | avg_glucose_level &lt;int&gt; | bmi &lt;int&gt; | smoking_status &lt;int&gt; | stroke &lt;int&gt; |\n",
       "|---|---|---|---|---|---|---|---|---|---|---|---|\n",
       "| 0 | 0 | 0 | 0 | 0 | 0 | 0 | 0 | 0 | 0 | 0 | 0 |\n",
       "\n"
      ],
      "text/plain": [
       "  id gender age hypertension heart_disease ever_married work_type\n",
       "1 0  0      0   0            0             0            0        \n",
       "  Residence_type avg_glucose_level bmi smoking_status stroke\n",
       "1 0              0                 0   0              0     "
      ]
     },
     "metadata": {},
     "output_type": "display_data"
    }
   ],
   "source": [
    "print(\"Number of observations and percentage in stroke\")\n",
    "num_obs <- nrow(stroke_data)\n",
    "stroke_data %>%\n",
    "  group_by(stroke) %>%\n",
    "  summarize(\n",
    "    count = n(),\n",
    "    percentage = n() / num_obs * 100)\n",
    "\n",
    "print(\"Means of the predictor variables used in our analysis\")\n",
    "stroke_data %>%\n",
    "  summarize(across(age:heart_disease, mean, na.rm = TRUE))\n",
    "\n",
    "stroke_data %>%\n",
    "  summarize(across(avg_glucose_level: bmi, mean, na.rm = TRUE))\n",
    "\n",
    "print(\"Missing data\")\n",
    "stroke_data %>% \n",
    "    summarise_all(~ sum(is.na(.)))"
   ]
  },
  {
   "cell_type": "code",
   "execution_count": 13,
   "metadata": {},
   "outputs": [],
   "source": [
    "stroke_split <- initial_split(stroke_data, prop = 0.75, strata = stroke)\n",
    "stroke_training <- training(stroke_split)\n",
    "stroke_testing <- testing(stroke_split)"
   ]
  },
  {
   "cell_type": "code",
   "execution_count": 14,
   "metadata": {},
   "outputs": [
    {
     "name": "stdout",
     "output_type": "stream",
     "text": [
      "Rows: 1,428\n",
      "Columns: 12\n",
      "$ id                \u001b[3m\u001b[90m<dbl>\u001b[39m\u001b[23m 31112, 60182, 1665, 56669, 53882, 10434, 27419, 604…\n",
      "$ gender            \u001b[3m\u001b[90m<chr>\u001b[39m\u001b[23m \"Male\", \"Female\", \"Female\", \"Male\", \"Male\", \"Female…\n",
      "$ age               \u001b[3m\u001b[90m<dbl>\u001b[39m\u001b[23m 80, 49, 79, 81, 74, 69, 59, 78, 81, 61, 78, 79, 50,…\n",
      "$ hypertension      \u001b[3m\u001b[90m<dbl>\u001b[39m\u001b[23m 0, 0, 1, 0, 1, 0, 0, 0, 1, 0, 0, 0, 1, 0, 0, 0, 1, …\n",
      "$ heart_disease     \u001b[3m\u001b[90m<dbl>\u001b[39m\u001b[23m 1, 0, 0, 0, 1, 0, 0, 0, 0, 1, 1, 1, 0, 1, 0, 0, 0, …\n",
      "$ ever_married      \u001b[3m\u001b[90m<chr>\u001b[39m\u001b[23m \"Yes\", \"Yes\", \"Yes\", \"Yes\", \"Yes\", \"No\", \"Yes\", \"Ye…\n",
      "$ work_type         \u001b[3m\u001b[90m<chr>\u001b[39m\u001b[23m \"Private\", \"Private\", \"Self-employed\", \"Private\", \"…\n",
      "$ Residence_type    \u001b[3m\u001b[90m<chr>\u001b[39m\u001b[23m \"Rural\", \"Urban\", \"Rural\", \"Urban\", \"Rural\", \"Urban…\n",
      "$ avg_glucose_level \u001b[3m\u001b[90m<dbl>\u001b[39m\u001b[23m 105.92, 171.23, 174.12, 186.21, 70.09, 94.39, 76.15…\n",
      "$ bmi               \u001b[3m\u001b[90m<chr>\u001b[39m\u001b[23m \"32.5\", \"34.4\", \"24\", \"29\", \"27.4\", \"22.8\", \"N/A\", …\n",
      "$ smoking_status    \u001b[3m\u001b[90m<chr>\u001b[39m\u001b[23m \"never smoked\", \"smokes\", \"never smoked\", \"formerly…\n",
      "$ stroke            \u001b[3m\u001b[90m<fct>\u001b[39m\u001b[23m 1, 1, 1, 1, 1, 1, 1, 1, 1, 1, 1, 1, 1, 1, 1, 1, 1, …\n"
     ]
    }
   ],
   "source": [
    "glimpse(stroke_training)"
   ]
  },
  {
   "cell_type": "code",
   "execution_count": 15,
   "metadata": {},
   "outputs": [
    {
     "name": "stdout",
     "output_type": "stream",
     "text": [
      "Rows: 475\n",
      "Columns: 12\n",
      "$ id                \u001b[3m\u001b[90m<dbl>\u001b[39m\u001b[23m 9046, 51676, 12175, 34120, 25226, 68794, 4219, 5482…\n",
      "$ gender            \u001b[3m\u001b[90m<chr>\u001b[39m\u001b[23m \"Male\", \"Female\", \"Female\", \"Male\", \"Male\", \"Female…\n",
      "$ age               \u001b[3m\u001b[90m<dbl>\u001b[39m\u001b[23m 67, 61, 54, 75, 57, 79, 71, 69, 60, 81, 76, 77, 78,…\n",
      "$ hypertension      \u001b[3m\u001b[90m<dbl>\u001b[39m\u001b[23m 0, 0, 0, 1, 0, 0, 0, 0, 1, 0, 0, 1, 0, 1, 0, 0, 0, …\n",
      "$ heart_disease     \u001b[3m\u001b[90m<dbl>\u001b[39m\u001b[23m 1, 0, 0, 0, 1, 0, 0, 1, 0, 0, 0, 0, 0, 0, 0, 0, 0, …\n",
      "$ ever_married      \u001b[3m\u001b[90m<chr>\u001b[39m\u001b[23m \"Yes\", \"Yes\", \"Yes\", \"Yes\", \"No\", \"Yes\", \"Yes\", \"Ye…\n",
      "$ work_type         \u001b[3m\u001b[90m<chr>\u001b[39m\u001b[23m \"Private\", \"Self-employed\", \"Private\", \"Private\", \"…\n",
      "$ Residence_type    \u001b[3m\u001b[90m<chr>\u001b[39m\u001b[23m \"Urban\", \"Rural\", \"Urban\", \"Urban\", \"Urban\", \"Urban…\n",
      "$ avg_glucose_level \u001b[3m\u001b[90m<dbl>\u001b[39m\u001b[23m 228.69, 202.21, 104.51, 221.29, 217.08, 228.70, 102…\n",
      "$ bmi               \u001b[3m\u001b[90m<chr>\u001b[39m\u001b[23m \"36.6\", \"N/A\", \"27.3\", \"25.8\", \"N/A\", \"26.6\", \"27.2…\n",
      "$ smoking_status    \u001b[3m\u001b[90m<chr>\u001b[39m\u001b[23m \"formerly smoked\", \"never smoked\", \"smokes\", \"smoke…\n",
      "$ stroke            \u001b[3m\u001b[90m<fct>\u001b[39m\u001b[23m 1, 1, 1, 1, 1, 1, 1, 1, 1, 1, 1, 1, 1, 1, 1, 1, 1, …\n"
     ]
    }
   ],
   "source": [
    "glimpse(stroke_testing)"
   ]
  },
  {
   "cell_type": "code",
   "execution_count": 16,
   "metadata": {},
   "outputs": [
    {
     "name": "stderr",
     "output_type": "stream",
     "text": [
      "`summarise()` ungrouping output (override with `.groups` argument)\n",
      "\n"
     ]
    },
    {
     "data": {
      "text/html": [
       "<table>\n",
       "<caption>A tibble: 2 × 3</caption>\n",
       "<thead>\n",
       "\t<tr><th scope=col>stroke</th><th scope=col>n</th><th scope=col>percent</th></tr>\n",
       "\t<tr><th scope=col>&lt;fct&gt;</th><th scope=col>&lt;int&gt;</th><th scope=col>&lt;dbl&gt;</th></tr>\n",
       "</thead>\n",
       "<tbody>\n",
       "\t<tr><td>0</td><td>1241</td><td>86.90476</td></tr>\n",
       "\t<tr><td>1</td><td> 187</td><td>13.09524</td></tr>\n",
       "</tbody>\n",
       "</table>\n"
      ],
      "text/latex": [
       "A tibble: 2 × 3\n",
       "\\begin{tabular}{lll}\n",
       " stroke & n & percent\\\\\n",
       " <fct> & <int> & <dbl>\\\\\n",
       "\\hline\n",
       "\t 0 & 1241 & 86.90476\\\\\n",
       "\t 1 &  187 & 13.09524\\\\\n",
       "\\end{tabular}\n"
      ],
      "text/markdown": [
       "\n",
       "A tibble: 2 × 3\n",
       "\n",
       "| stroke &lt;fct&gt; | n &lt;int&gt; | percent &lt;dbl&gt; |\n",
       "|---|---|---|\n",
       "| 0 | 1241 | 86.90476 |\n",
       "| 1 |  187 | 13.09524 |\n",
       "\n"
      ],
      "text/plain": [
       "  stroke n    percent \n",
       "1 0      1241 86.90476\n",
       "2 1       187 13.09524"
      ]
     },
     "metadata": {},
     "output_type": "display_data"
    }
   ],
   "source": [
    "stroke_proportions <- stroke_training %>%\n",
    "                      group_by(stroke) %>%\n",
    "                      summarize(n = n()) %>%\n",
    "                      mutate(percent = 100*n/nrow(stroke_training))\n",
    "\n",
    "stroke_proportions"
   ]
  },
  {
   "cell_type": "code",
   "execution_count": 17,
   "metadata": {},
   "outputs": [],
   "source": [
    "stroke_recipe <- recipe(stroke ~ age + hypertension + heart_disease + avg_glucose_level, \n",
    "                        data = stroke_training) %>%\n",
    "  step_scale(all_predictors()) %>%\n",
    "  step_center(all_predictors())"
   ]
  },
  {
   "cell_type": "code",
   "execution_count": 18,
   "metadata": {},
   "outputs": [],
   "source": [
    "knn_spec <- nearest_neighbor(weight_func = \"rectangular\", \n",
    "                             neighbors = tune()) %>%\n",
    "  set_engine(\"kknn\") %>%\n",
    "  set_mode(\"classification\")"
   ]
  },
  {
   "cell_type": "code",
   "execution_count": null,
   "metadata": {},
   "outputs": [],
   "source": [
    "stroke_vfold <- vfold_cv(stroke_training, v = 10, strata = stroke)\n",
    "k_vals <- tibble(neighbors = seq(from = 1, to = 100, by = 5))\n",
    "\n",
    "knn_results <- workflow() %>%\n",
    "  add_recipe(stroke_recipe) %>%\n",
    "  add_model(knn_spec) %>%\n",
    "  tune_grid(resamples = stroke_vfold, grid = k_vals) %>%\n",
    "  collect_metrics() \n",
    "\n",
    "accuracies <- knn_results %>%\n",
    "  filter(.metric == \"accuracy\") %>%\n",
    "  filter(mean == max(mean)) %>%\n",
    "  pull(neighbors)\n",
    "\n",
    "accuracies"
   ]
  },
  {
   "cell_type": "code",
   "execution_count": null,
   "metadata": {},
   "outputs": [],
   "source": [
    "accurate <- knn_results %>%\n",
    "  filter(.metric == \"accuracy\")\n",
    "\n",
    "accuracy_vs_k <- ggplot(accurate, aes(x = neighbors, y = mean)) +\n",
    "  geom_point() +\n",
    "  geom_line() +\n",
    "  labs(x = \"Neighbors\", y = \"Accuracy Estimate\") + \n",
    "  theme(text = element_text(size = 12))\n",
    "\n",
    "accuracy_vs_k"
   ]
  },
  {
   "cell_type": "code",
   "execution_count": null,
   "metadata": {},
   "outputs": [],
   "source": [
    "stroke_best_spec <- nearest_neighbor(weight_func = \"rectangular\", neighbors = 51) %>%\n",
    "                            set_engine(\"kknn\") %>%\n",
    "                            set_mode(\"classification\")\n",
    "\n",
    "stroke_best_fit <- workflow() %>%\n",
    "                        add_recipe(stroke_recipe) %>%\n",
    "                        add_model(stroke_best_spec) %>%\n",
    "                        fit(data = stroke_training)\n",
    "\n",
    "stroke_summary <- stroke_best_fit %>% \n",
    "                       predict(stroke_testing) %>%\n",
    "                       bind_cols(stroke_testing) %>%\n",
    "                       metrics(truth = stroke, estimate = .pred_class)\n",
    "\n",
    "stroke_summary"
   ]
  },
  {
   "cell_type": "code",
   "execution_count": null,
   "metadata": {},
   "outputs": [],
   "source": [
    "print(\"Visualizations used to compare the distributions of each of the predictor variables used in our analysis.\")\n",
    "stroke_plot_1 <- stroke_data %>%\n",
    "  ggplot(aes(x = bmi, y = avg_glucose_level, color = stroke)) +\n",
    "  ggtitle(\"Scatter plot of bmi versus average glucose level colored by stroke\") +\n",
    "  geom_point(alpha = 0.6) +\n",
    "  labs(x = \"bmi (standardized)\", \n",
    "       y = \"avg glucose level (standardized)\",\n",
    "       color = \"stroke\") +\n",
    "  scale_color_manual(labels = c(\"no stroke\", \"stroke\"), \n",
    "                     values = c(\"red\", \"blue\")) +\n",
    "  theme(text = element_text(size = 12))\n",
    "\n",
    "stroke_plot_2 <- ggplot(stroke_data, aes(x = age, fill = stroke)) +\n",
    "  ggtitle(\"Histogram of age of stroke data filled by stroke\") +\n",
    "  geom_histogram(alpha = 0.5, position = \"identity\")  \n",
    "\n",
    "stroke_plot_3 <- ggplot(stroke_data, aes(x = hypertension, fill = stroke)) +\n",
    "  ggtitle(\"Histogram of hypertension of stroke data filled by stroke\") +\n",
    "  geom_histogram(alpha = 0.5, position = \"identity\")\n",
    "\n",
    "stroke_plot_4 <- ggplot(stroke_data, aes(x = heart_disease, fill = stroke)) +\n",
    "  ggtitle(\"Histogram of heart disease of stroke data filled by stroke\") +\n",
    "  geom_histogram(alpha = 0.5, position = \"identity\") \n",
    "                                                   \n",
    "stroke_plot_1\n",
    "stroke_plot_2                                        \n",
    "stroke_plot_3                                      \n",
    "stroke_plot_4                                                   "
   ]
  },
  {
   "cell_type": "markdown",
   "metadata": {},
   "source": [
    "### **Methods:**\n",
    "\n",
    "**Explain how you will conduct either your data analysis and which variables/columns you will use**\n",
    "\n",
    "We'll conduct our data anaylsis using Classification, i.e., using one or more variables to predict the value of a categorical variable of interest (i.e. stroke in our case). Moreover, we'll answer our predictive question using four variables/columns present in our dataset ,i.e., based on four predictor variables namely age, hypertension, heart disease, BMI, and average glucose level in our dataset. We chose these four predictor variables to predict the values of stroke because these are the four major reasons of a stroke occurence and thus would be most helpful in predicting the values of stroke.\n",
    "\n",
    "**Describe at least one way that you will visualize the results**\n",
    "\n",
    "We'll visualize the results using scatterplots and histograms. We'll use scatterplot for BMI and average glucose level colored by stroke, and we'll use histograms for age, hypertension, heart disease filled by stroke."
   ]
  },
  {
   "cell_type": "markdown",
   "metadata": {},
   "source": [
    "### **Expected outcomes and significance:**\n",
    "\n",
    "**What do you expect to find?**\n",
    "\n",
    "We expect to find the percentage of stroke using the given dataset to predict the possibility of a patient getting a stroke based on parameters like age, hypertension, heart diseage, BMI, and average glucose level present in our dataset. Moreover, we expect find a relationship among the predictor variables and the variable of interest.\n",
    "\n",
    "**What impact could such findings have?**\n",
    "\n",
    "Such findings would have a major impact on the expected outcomes and could also help in identifying which parameters are more strongly related to having a stroke, thus reminding people under high risk to be careful with what they do and what precationary methods they should take to avoid the possibility of a stroke.\n",
    "\n",
    "**What future questions could this lead to?**\n",
    "\n",
    "This could lead to a plethora of future questions such as identifying which would be the most important variable to determine the possibility of a stroke, comparisions between different parameters, and spot the most important risk factor for a stroke."
   ]
  },
  {
   "cell_type": "markdown",
   "metadata": {},
   "source": [
    "## **References:**\n",
    "\n",
    "Dubow, J., Fink, M.E. Impact of Hypertension on Stroke. Curr Atheroscler Rep 13, 298–305 (2011). https://doi.org/10.1007/s11883-011-0187-y\n",
    "\n",
    "Soriano-Tárraga, C., Lazcano, U., Jiménez-Conde, J. et al. Biological age is a novel biomarker to predict stroke \n",
    "recurrence. J Neurol 268, 285–292 (2021). https://doi.org/10.1007/s00415-020-10148-3"
   ]
  }
 ],
 "metadata": {
  "kernelspec": {
   "display_name": "R",
   "language": "R",
   "name": "ir"
  },
  "language_info": {
   "codemirror_mode": "r",
   "file_extension": ".r",
   "mimetype": "text/x-r-source",
   "name": "R",
   "pygments_lexer": "r",
   "version": "4.0.0"
  }
 },
 "nbformat": 4,
 "nbformat_minor": 4
}
